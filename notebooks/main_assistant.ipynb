{
 "cells": [
  {
   "cell_type": "markdown",
   "metadata": {},
   "source": [
    "# 🩺 Ayurvedic Diagnostic Assistant - Interactive Interface\n",
    "\n",
    "This notebook provides an interactive interface for the Ayurvedic Diagnostic Assistant with a beautiful QA display.\n",
    "\n",
    "## Features:\n",
    "- Interactive symptom input\n",
    "- Real-time diagnostic analysis\n",
    "- Beautiful HTML display of results\n",
    "- RAG (Knowledge Base) integration\n",
    "- Batch analysis capabilities"
   ]
  },
  {
   "cell_type": "code",
   "execution_count": null,
   "metadata": {},
   "outputs": [],
   "source": [
    "# Import required libraries\n",
    "import sys\n",
    "import os\n",
    "from pathlib import Path\n",
    "\n",
    "# Add src to path\n",
    "sys.path.append('src')\n",
    "\n",
    "# Import the assistant components\n",
    "from src.utils.helpers import setup_logging, validate_environment\n",
    "from src.ai.diagnostic_engine import AyurvedicDiagnosticEngine\n",
    "from src.ui.widgets import InteractiveDiagnosticWidget, BatchAnalysisWidget\n",
    "from src.ui.display import DiagnosisDisplay\n",
    "\n",
    "# Setup logging\n",
    "setup_logging('INFO')\n",
    "\n",
    "print(\"🩺 Ayurvedic Diagnostic Assistant - Interactive Interface\")"
   ]
  },
  {
   "cell_type": "code",
   "execution_count": null,
   "metadata": {},
   "outputs": [],
   "source": [
    "# Validate environment\n",
    "print(\"🔍 Validating environment...\")\n",
    "validation = validate_environment()\n",
    "\n",
    "if not validation['environment_valid']:\n",
    "    print(\"❌ Environment validation failed:\")\n",
    "    for req in validation['missing_requirements']:\n",
    "        print(f\"  - {req}\")\n",
    "else:\n",
    "    print(\"✅ Environment is valid\")"
   ]
  },
  {
   "cell_type": "code",
   "execution_count": null,
   "metadata": {},
   "outputs": [],
   "source": [
    "# Initialize the diagnostic engine\n",
    "print(\"🚀 Initializing diagnostic engine...\")\n",
    "try:\n",
    "    engine = AyurvedicDiagnosticEngine()\n",
    "    print(\"✅ Diagnostic engine initialized successfully\")\n",
    "except Exception as e:\n",
    "    print(f\"❌ Failed to initialize engine: {e}\")\n",
    "    print(\"Please check your Google API key in .env file\")\n",
    "    engine = None"
   ]
  },
  {
   "cell_type": "markdown",
   "metadata": {},
   "source": [
    "## 🎯 Interactive Diagnostic Interface\n",
    "\n",
    "Below is the main interactive interface where you can:\n",
    "1. Enter your symptoms in the text area\n",
    "2. Adjust analysis parameters (RAG, temperature)\n",
    "3. Click 'Analyze Symptoms' to get your Ayurvedic diagnosis\n",
    "4. View beautiful, formatted results with detailed recommendations"
   ]
  },
  {
   "cell_type": "code",
   "execution_count": null,
   "metadata": {},
   "outputs": [],
   "source": [
    "# Create the interactive diagnostic widget\n",
    "if engine:\n",
    "    # Define the diagnostic callback function\n",
    "    def diagnostic_callback(symptoms: str, use_rag: bool = True, temperature: float = 0.2):\n",
    "        \"\"\"Callback function for the interactive widget.\"\"\"\n",
    "        try:\n",
    "            # Configure engine parameters\n",
    "            engine.use_rag = use_rag\n",
    "            engine.temperature = temperature\n",
    "            \n",
    "            # Analyze symptoms\n",
    "            result = engine.analyze_symptoms(symptoms)\n",
    "            return result\n",
    "        except Exception as e:\n",
    "            return {\"error\": str(e)}\n",
    "    \n",
    "    # Create the interactive widget\n",
    "    interactive_widget = InteractiveDiagnosticWidget(diagnostic_callback)\n",
    "    \n",
    "    # Display the widget\n",
    "    interactive_widget.display()\n",
    "else:\n",
    "    print(\"❌ Cannot create interactive widget - engine not initialized\")"
   ]
  },
  {
   "cell_type": "markdown",
   "metadata": {},
   "source": [
    "## 📊 Batch Analysis Interface\n",
    "\n",
    "For analyzing multiple symptom sets at once:"
   ]
  },
  {
   "cell_type": "code",
   "execution_count": null,
   "metadata": {},
   "outputs": [],
   "source": [
    "# Create batch analysis widget\n",
    "if engine:\n",
    "    def batch_diagnostic_callback(symptoms_list: list):\n",
    "        \"\"\"Callback function for batch analysis.\"\"\"\n",
    "        results = []\n",
    "        for symptoms in symptoms_list:\n",
    "            try:\n",
    "                result = engine.analyze_symptoms(symptoms)\n",
    "                results.append(result)\n",
    "            except Exception as e:\n",
    "                results.append({\"error\": str(e)})\n",
    "        return results\n",
    "    \n",
    "    batch_widget = BatchAnalysisWidget(batch_diagnostic_callback)\n",
    "    batch_widget.display()\n",
    "else:\n",
    "    print(\"❌ Cannot create batch widget - engine not initialized\")"
   ]
  },
  {
   "cell_type": "markdown",
   "metadata": {},
   "source": [
    "## 🧪 Example Usage\n",
    "\n",
    "Here are some example symptoms you can try:"
   ]
  },
  {
   "cell_type": "code",
   "execution_count": null,
   "metadata": {},
   "outputs": [],
   "source": [
    "# Example symptoms for testing\n",
    "example_symptoms = {\n",
    "    \"Vata Imbalance\": \"I have joint pain that worsens in cold weather, cracking sounds in my knees, constipation, and anxiety. I have trouble sleeping and my skin is very dry.\",\n",
    "    \"Pitta Imbalance\": \"I frequently get heartburn and acid reflux, especially after eating spicy foods. I have a reddish complexion, feel hot often, and get irritated easily.\",\n",
    "    \"Kapha Imbalance\": \"I feel very tired and sluggish, have gained weight, and feel congested. I sleep too much and have slow digestion.\"\n",
    "}\n",
    "\n",
    "print(\"📋 Example Symptoms to Try:\")\n",
    "for dosha, symptoms in example_symptoms.items():\n",
    "    print(f\"\\n🩺 {dosha}:\")\n",
    "    print(f\"   {symptoms}\")"
   ]
  },
  {
   "cell_type": "markdown",
   "metadata": {},
   "source": [
    "## 📝 How to Use the Display\n",
    "\n",
    "### Interactive Widget:\n",
    "1. **Enter Symptoms**: Type your symptoms in the text area\n",
    "2. **Configure Options**: \n",
    "   - Toggle RAG (Knowledge Base) on/off\n",
    "   - Adjust temperature (0.0-1.0) for response creativity\n",
    "3. **Analyze**: Click the '🩺 Analyze Symptoms' button\n",
    "4. **View Results**: See beautiful formatted output with:\n",
    "   - Dominant dosha identification\n",
    "   - Detailed diagnosis\n",
    "   - Treatment recommendations\n",
    "   - Supporting evidence\n",
    "   - Lifestyle advice\n",
    "\n",
    "### Batch Analysis:\n",
    "1. **Upload File**: Upload a text file with multiple symptom sets\n",
    "2. **Or Manual Input**: Enter multiple symptom sets in the text area\n",
    "3. **Process**: Click '📊 Process Batch'\n",
    "4. **View Results**: See all analyses at once\n",
    "\n",
    "### Display Features:\n",
    "- **Beautiful HTML Output**: Rich formatting with colors and icons\n",
    "- **Dosha Badges**: Color-coded dosha identification\n",
    "- **Treatment Categories**: Organized recommendations\n",
    "- **Evidence Section**: Supporting symptoms and indicators\n",
    "- **Disclaimer**: Important medical disclaimers\n",
    "- **Metadata**: Analysis timestamp and parameters"
   ]
  },
  {
   "cell_type": "code",
   "execution_count": null,
   "metadata": {},
   "outputs": [],
   "source": [
    "# Test the display functionality directly\n",
    "if engine:\n",
    "    print(\"🧪 Testing display functionality...\")\n",
    "    \n",
    "    # Test with Vata symptoms\n",
    "    test_symptoms = example_symptoms[\"Vata Imbalance\"]\n",
    "    print(f\"\\n📝 Testing with symptoms: {test_symptoms[:50]}...\")\n",
    "    \n",
    "    # Get diagnosis\n",
    "    result = engine.analyze_symptoms(test_symptoms)\n",
    "    \n",
    "    # Display results\n",
    "    if \"error\" not in result:\n",
    "        display = DiagnosisDisplay()\n",
    "        display.display_diagnosis(result)\n",
    "    else:\n",
    "        print(f\"❌ Error: {result['error']}\")\n",
    "else:\n",
    "    print(\"❌ Engine not available for testing\")"
   ]
  },
  {
   "cell_type": "markdown",
   "metadata": {},
   "source": [
    "## 🎨 Display Customization\n",
    "\n",
    "The display system provides several customization options:"
   ]
  },
  {
   "cell_type": "code",
   "execution_count": null,
   "metadata": {},
   "outputs": [],
   "source": [
    "# Example of custom display usage\n",
    "if engine:\n",
    "    # Create display instance\n",
    "    display_util = DiagnosisDisplay()\n",
    "    \n",
    "    # Test symptoms\n",
    "    test_symptoms = \"I have heartburn, skin rashes, and feel hot often.\"\n",
    "    \n",
    "    # Get diagnosis\n",
    "    result = engine.analyze_symptoms(test_symptoms)\n",
    "    \n",
    "    if \"error\" not in result:\n",
    "        print(\"📊 Full Diagnosis Display:\")\n",
    "        # Display full diagnosis with all sections\n",
    "        display(display_util.display_diagnosis(result))\n",
    "        \n",
    "        print(\"\\n📋 Simple Summary Display:\")\n",
    "        # Display simplified version\n",
    "        display(display_util.display_simple(result))\n",
    "    else:\n",
    "        print(f\"❌ Error: {result['error']}\")\n",
    "else:\n",
    "    print(\"❌ Engine not available for display testing\")"
   ]
  },
  {
   "cell_type": "markdown",
   "metadata": {},
   "source": [
    "## ⚠️ Important Notes\n",
    "\n",
    "1. **Medical Disclaimer**: This tool is for educational purposes only\n",
    "2. **API Key**: Ensure your Google API key is set in the `.env` file\n",
    "3. **Internet Connection**: Required for API calls to Gemini\n",
    "4. **Rate Limits**: Be mindful of API usage limits\n",
    "5. **Professional Consultation**: Always consult qualified Ayurvedic practitioners\n",
    "\n",
    "## 🚀 Next Steps\n",
    "\n",
    "1. **Try the Interactive Widget**: Enter your symptoms above\n",
    "2. **Experiment with Parameters**: Adjust RAG and temperature settings\n",
    "3. **Batch Analysis**: Process multiple symptom sets\n",
    "4. **Custom Integration**: Use the display classes in your own code\n",
    "\n",
    "Enjoy exploring the Ayurvedic Diagnostic Assistant! 🌿"
   ]
  }
 ],
 "metadata": {
  "kernelspec": {
   "display_name": "Python 3 (ipykernel)",
   "language": "python",
   "name": "python3"
  },
  "language_info": {
   "codemirror_mode": {
    "name": "ipython",
    "version": 3
   },
   "file_extension": ".py",
   "mimetype": "text/x-python",
   "name": "python",
   "nbconvert_exporter": "python",
   "pygments_lexer": "ipython3",
   "version": "3.9.6"
  }
 },
 "nbformat": 4,
 "nbformat_minor": 4
}
